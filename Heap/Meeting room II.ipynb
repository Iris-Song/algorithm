{
 "cells": [
  {
   "cell_type": "markdown",
   "metadata": {},
   "source": [
    "Leetcode\n",
    "\n",
    "[253. Meeting Rooms II](https://ttzztt.gitbooks.io/lc/content/heap/meeting-room.html)"
   ]
  },
  {
   "cell_type": "code",
   "execution_count": null,
   "metadata": {},
   "outputs": [],
   "source": [
    "# Definition for an interval.\n",
    "# class Interval(object):\n",
    "#     def __init__(self, s=0, e=0):\n",
    "#         self.start = s\n",
    "#         self.end = e\n",
    "\n",
    "class Solution(object):\n",
    "    def minMeetingRooms(self, intervals):\n",
    "        events = [(it.start, 1) for it in intervals] + [(it.end, -1)\n",
    "                                                        for it in intervals]\n",
    "        events.sort()\n",
    "\n",
    "        maxroom = 0\n",
    "        presumroom = 0\n",
    "\n",
    "        for t, num in events:\n",
    "            presumroom += num\n",
    "            maxroom = max(presumroom, maxroom)\n",
    "\n",
    "        return maxroom"
   ]
  }
 ],
 "metadata": {
  "language_info": {
   "name": "python"
  }
 },
 "nbformat": 4,
 "nbformat_minor": 2
}
